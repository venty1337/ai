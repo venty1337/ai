{
  "nbformat": 4,
  "nbformat_minor": 0,
  "metadata": {
    "colab": {
      "provenance": [],
      "toc_visible": true,
      "authorship_tag": "ABX9TyNBzWJJ6ChzDf2y3ULOmJa6",
      "include_colab_link": true
    },
    "kernelspec": {
      "name": "python3",
      "display_name": "Python 3"
    },
    "language_info": {
      "name": "python"
    }
  },
  "cells": [
    {
      "cell_type": "markdown",
      "metadata": {
        "id": "view-in-github",
        "colab_type": "text"
      },
      "source": [
        "<a href=\"https://colab.research.google.com/github/venty1337/ai/blob/main/iDelti.ipynb\" target=\"_parent\"><img src=\"https://colab.research.google.com/assets/colab-badge.svg\" alt=\"Open In Colab\"/></a>"
      ]
    },
    {
      "cell_type": "markdown",
      "source": [
        "# Podstawowe elementy jezyka Python."
      ],
      "metadata": {
        "id": "eMWIEFYRFStv"
      }
    },
    {
      "cell_type": "markdown",
      "source": [
        "*W tym rodziale przedstawiamy podstawowe komendy skladni jezyka python*"
      ],
      "metadata": {
        "id": "bjYUo-eZFw1Q"
      }
    },
    {
      "cell_type": "markdown",
      "source": [
        "https://www.python.org/"
      ],
      "metadata": {
        "id": "MfAGpvG5GdF_"
      }
    },
    {
      "cell_type": "markdown",
      "source": [
        "# Omawiane elementy"
      ],
      "metadata": {
        "id": "qDc12b51GoE_"
      }
    },
    {
      "cell_type": "markdown",
      "source": [
        "\n",
        "\n",
        "1. Zmienne\n",
        "2. Listy\n",
        "3. Pętle\n",
        "4. Słowniki i krotki\n",
        "5. Instrukjce warunkowe\n",
        "6. Funkcje\n",
        "7. Obsługa plików\n",
        "8. Obsługa wyjątków\n"
      ],
      "metadata": {
        "id": "_kpQ__WUGx93"
      }
    },
    {
      "cell_type": "markdown",
      "source": [
        "# Zmienne\n",
        "\n",
        "liczba = 6\n",
        "zmiennoprzecinkowa = 8.9\n",
        "napis = \"Idelti\"\n",
        "logiczne = False\n",
        "\n",
        "```\n",
        "liczba = 6\n",
        "zmiennoprzecinkowa = 8.9\n",
        "napis = \"Idelti\"\n",
        "logiczne = False\n",
        "\n",
        "print(f\"liczba: {liczba} liczbna zmienno przecinkowa {zmiennoprzecinkowa}, napis {napis}, zmienna logiczna {logiczne} \")\n",
        "\n",
        "print(f\"zmienna liczba jest typu {type{liczba}}\")\n",
        "\n",
        "```\n",
        "\n"
      ],
      "metadata": {
        "id": "iskDq26rJq2x"
      }
    },
    {
      "cell_type": "code",
      "source": [
        "liczba = 6\n",
        "zmiennoprzecinkowa = 8.9\n",
        "napis = \"Idelti\"\n",
        "logiczne = False\n",
        "\n",
        "print(f\"liczba: {liczba} liczbna zmienno przecinkowa {zmiennoprzecinkowa}, napis {napis}, zmienna logiczna {logiczne} \")\n",
        "\n",
        "print(f\"zmiennaliczba jest typu {type(liczba)}\")"
      ],
      "metadata": {
        "colab": {
          "base_uri": "https://localhost:8080/"
        },
        "id": "PtOttNDOKP2A",
        "outputId": "c5e42cf7-71d9-4f66-924c-e91038fac754"
      },
      "execution_count": 4,
      "outputs": [
        {
          "output_type": "stream",
          "name": "stdout",
          "text": [
            "liczba: 6 liczbna zmienno przecinkowa 8.9, napis Idelti, zmienna logiczna False \n",
            "zmiennaliczba jest typu <class 'int'>\n"
          ]
        }
      ]
    },
    {
      "cell_type": "code",
      "source": [
        "liczba = \"szesc\"\n",
        "\n",
        "print(f\"zmiena jest typu {type(liczba)}\")"
      ],
      "metadata": {
        "colab": {
          "base_uri": "https://localhost:8080/"
        },
        "id": "klq7YT6jLQ9o",
        "outputId": "c7514c60-80f8-4d26-8fd5-fddc981c2ce0"
      },
      "execution_count": 6,
      "outputs": [
        {
          "output_type": "stream",
          "name": "stdout",
          "text": [
            "zmiena jest typu <class 'str'>\n"
          ]
        }
      ]
    },
    {
      "cell_type": "markdown",
      "source": [
        "# Listy"
      ],
      "metadata": {
        "id": "LUAzm4WySitA"
      }
    },
    {
      "cell_type": "code",
      "source": [
        "#Tworzenie list\n",
        "gry = [\"Phortnight\", \"mein kampf\", \"robux\"]\n",
        "lista_mieszana = [1, \"lol\", 2, \"dota\"]\n",
        "\n",
        "#Wyswietlanie list\n",
        "\n",
        "print(gry)\n",
        "print(lista_mieszana)\n",
        "\n",
        "#odwolanie do pierwszego elementu listy\n",
        "\n",
        "print(f\"pierwszy element listy gry to {gry[0]}\")\n",
        "\n",
        "#odwolania elementu do listy\n",
        "\n",
        "gry.append(\"CS\")\n",
        "print(\"gry\")"
      ],
      "metadata": {
        "colab": {
          "base_uri": "https://localhost:8080/"
        },
        "id": "w2l8lxGSSr0P",
        "outputId": "e6aa8b79-427b-41a8-ea50-9c51676b52f0"
      },
      "execution_count": 12,
      "outputs": [
        {
          "output_type": "stream",
          "name": "stdout",
          "text": [
            "['Phortnight', 'mein kampf', 'robux']\n",
            "[1, 'lol', 2, 'dota']\n",
            "pierwszy element listy gry to Phortnight\n",
            "gry\n"
          ]
        }
      ]
    },
    {
      "cell_type": "markdown",
      "source": [
        "# Pętle"
      ],
      "metadata": {
        "id": "19E25J73SsS4"
      }
    },
    {
      "cell_type": "code",
      "source": [
        "#pętla while\n",
        "\n",
        "licznik = 0\n",
        "\n",
        "print(\"Petla while liczaca do 5\")\n",
        "while licznik <= 5:\n",
        "  print(licznik)\n",
        "  licznik += 1\n",
        "\n",
        "#pętla for\n",
        "print(\"Petla for liczaca do 5\")\n",
        "for licznik in range(6):\n",
        "  print(licznik)\n",
        "\n",
        "\n",
        "print(\"Petla for liczaca od 5 do 10 \")\n",
        "for licznik in range(5, 11):\n",
        "  print(licznik)\n",
        "\n",
        "print(\"Pętla for liczaaca do 10 tylko liczbami patrzstymi\")\n",
        "for licznik in range (0, 12, 2):\n",
        "  print(licznik)\n",
        "\n",
        "print(\"Petla for przechodzaca przez elementy listy\")\n",
        "for gra in gry:\n",
        "    print(gra)"
      ],
      "metadata": {
        "colab": {
          "base_uri": "https://localhost:8080/"
        },
        "id": "coIHg6g7SxF3",
        "outputId": "b5d9a2e0-929c-4041-834a-dee58a6c286f"
      },
      "execution_count": 33,
      "outputs": [
        {
          "output_type": "stream",
          "name": "stdout",
          "text": [
            "Petla while liczaca do 5\n",
            "0\n",
            "1\n",
            "2\n",
            "3\n",
            "4\n",
            "5\n",
            "Petla for liczaca do 5\n",
            "0\n",
            "1\n",
            "2\n",
            "3\n",
            "4\n",
            "5\n",
            "Petla for liczaca od 5 do 10 \n",
            "5\n",
            "6\n",
            "7\n",
            "8\n",
            "9\n",
            "10\n",
            "Pętla for liczaaca do 10 tylko liczbami patrzstymi\n",
            "0\n",
            "2\n",
            "4\n",
            "6\n",
            "8\n",
            "10\n",
            "Petla for przechodzaca przez elementy listy\n",
            "Phortnight\n",
            "mein kampf\n",
            "robux\n",
            "CS\n"
          ]
        }
      ]
    },
    {
      "cell_type": "markdown",
      "source": [
        "# Słowniki i krotki"
      ],
      "metadata": {
        "id": "xk8W9RibSylB"
      }
    },
    {
      "cell_type": "code",
      "source": [
        "slownik = {'kot' : 'cat',\n",
        "           \"pies\" : \"dog\",\n",
        "           \"waz\" : \"snake\"}\n",
        "\n",
        "print(slownik['kot'])\n",
        "\n",
        "print(\"Klucze slownika\")\n",
        "for key in slownik.keys():\n",
        "  print(key)\n",
        "\n",
        "print(\"wartosci slownika\")\n",
        "for value in  slownik.values():\n",
        "  print(value)"
      ],
      "metadata": {
        "colab": {
          "base_uri": "https://localhost:8080/"
        },
        "id": "9nKZ1dQjS5m_",
        "outputId": "68c39229-fa3a-497f-abf8-6ac5f03ee561"
      },
      "execution_count": 39,
      "outputs": [
        {
          "output_type": "stream",
          "name": "stdout",
          "text": [
            "cat\n",
            "Klucze slownika\n",
            "kot\n",
            "pies\n",
            "waz\n",
            "wartosci slownika\n",
            "cat\n",
            "dog\n",
            "snake\n"
          ]
        }
      ]
    },
    {
      "cell_type": "markdown",
      "source": [
        "# Instrukcje warunkowe"
      ],
      "metadata": {
        "id": "Onnl4hn1S6V4"
      }
    },
    {
      "cell_type": "code",
      "source": [],
      "metadata": {
        "id": "ySJsqpzNS--X"
      },
      "execution_count": null,
      "outputs": []
    },
    {
      "cell_type": "markdown",
      "source": [
        "# Funkcje"
      ],
      "metadata": {
        "id": "wRKtlBBKS_dR"
      }
    },
    {
      "cell_type": "code",
      "source": [],
      "metadata": {
        "id": "xRRu6FcATCeX"
      },
      "execution_count": null,
      "outputs": []
    },
    {
      "cell_type": "markdown",
      "source": [
        "# Obsługa plików"
      ],
      "metadata": {
        "id": "b5LMFEqwTByQ"
      }
    },
    {
      "cell_type": "code",
      "source": [],
      "metadata": {
        "id": "k17NmlQxTF4_"
      },
      "execution_count": null,
      "outputs": []
    },
    {
      "cell_type": "markdown",
      "source": [
        "# Obsługa wyjątków"
      ],
      "metadata": {
        "id": "4NjpsKzDTGH_"
      }
    },
    {
      "cell_type": "code",
      "source": [],
      "metadata": {
        "id": "wQRntIlpTKfH"
      },
      "execution_count": null,
      "outputs": []
    }
  ]
}