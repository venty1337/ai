{
  "nbformat": 4,
  "nbformat_minor": 0,
  "metadata": {
    "colab": {
      "provenance": [],
      "toc_visible": true,
      "authorship_tag": "ABX9TyPDqXHBZMtTiToQUQwoNZOo",
      "include_colab_link": true
    },
    "kernelspec": {
      "name": "python3",
      "display_name": "Python 3"
    },
    "language_info": {
      "name": "python"
    }
  },
  "cells": [
    {
      "cell_type": "markdown",
      "metadata": {
        "id": "view-in-github",
        "colab_type": "text"
      },
      "source": [
        "<a href=\"https://colab.research.google.com/github/venty1337/ai/blob/main/iDelti.ipynb\" target=\"_parent\"><img src=\"https://colab.research.google.com/assets/colab-badge.svg\" alt=\"Open In Colab\"/></a>"
      ]
    },
    {
      "cell_type": "markdown",
      "source": [
        "# Podstawowe elementy jezyka Python."
      ],
      "metadata": {
        "id": "eMWIEFYRFStv"
      }
    },
    {
      "cell_type": "markdown",
      "source": [
        "*W tym rodziale przedstawiamy podstawowe komendy skladni jezyka python*"
      ],
      "metadata": {
        "id": "bjYUo-eZFw1Q"
      }
    },
    {
      "cell_type": "markdown",
      "source": [
        "https://www.python.org/"
      ],
      "metadata": {
        "id": "MfAGpvG5GdF_"
      }
    },
    {
      "cell_type": "markdown",
      "source": [
        "# Omawiane elementy"
      ],
      "metadata": {
        "id": "qDc12b51GoE_"
      }
    },
    {
      "cell_type": "markdown",
      "source": [
        "\n",
        "\n",
        "1. Zmienne\n",
        "2. Listy\n",
        "3. Pętle\n",
        "4. Słowniki i krotki\n",
        "5. Instrukjce warunkowe\n",
        "6. Funkcje\n",
        "7. Obsługa plików\n",
        "8. Obsługa wyjątków\n"
      ],
      "metadata": {
        "id": "_kpQ__WUGx93"
      }
    }
  ]
}